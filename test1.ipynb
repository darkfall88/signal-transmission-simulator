{
 "cells": [
  {
   "cell_type": "code",
   "id": "1e64f072ca3662de",
   "metadata": {},
   "source": [
    "import panel as pn\n",
    "import numpy as np\n",
    "from matplotlib import pyplot as plt\n",
    "\n",
    "pn.extension()"
   ],
   "outputs": [],
   "execution_count": null
  },
  {
   "cell_type": "code",
   "id": "78e0665e49646a71",
   "metadata": {},
   "source": "pn.panel(\"Hello Ari\")",
   "outputs": [],
   "execution_count": null
  },
  {
   "metadata": {},
   "cell_type": "code",
   "source": [
    "def generate_wave(freq,sample_rate,duration):\n",
    "    x = np.linspace(0,duration,sample_rate*duration,endpoint=False)\n",
    "    frequencies = x*freq\n",
    "    y = np.sin((2*np.pi)*frequencies)\n",
    "    return x,y"
   ],
   "id": "1cc1f22a63791b9e",
   "outputs": [],
   "execution_count": null
  },
  {
   "metadata": {},
   "cell_type": "code",
   "source": [
    "def update_wave(freq):\n",
    "    x, y = generate_wave(freq, 100, 10)\n",
    "    fig, ax = plt.subplots()\n",
    "    ax.plot(x, y)\n",
    "    ax.set_title(f\"Wave at {freq} Hz\")\n",
    "    ax.set_xlabel(\"Time (s)\")\n",
    "    ax.set_ylabel(\"Amplitude\")\n",
    "    return pn.pane.Matplotlib(fig)"
   ],
   "id": "78dacf9cfc68e56f",
   "outputs": [],
   "execution_count": null
  },
  {
   "metadata": {},
   "cell_type": "code",
   "source": [
    "interactive_view = pn.interact(update_wave, freq=pn.widgets.FloatSlider(name='Frequency (Hz)', start=1, end=10, step=1))\n",
    "\n",
    "interactive_view.servable()\n"
   ],
   "id": "fe16e7407a5d09d4",
   "outputs": [],
   "execution_count": null
  }
 ],
 "metadata": {
  "kernelspec": {
   "display_name": "Python 3 (ipykernel)",
   "language": "python",
   "name": "python3"
  },
  "language_info": {
   "codemirror_mode": {
    "name": "ipython",
    "version": 3
   },
   "file_extension": ".py",
   "mimetype": "text/x-python",
   "name": "python",
   "nbconvert_exporter": "python",
   "pygments_lexer": "ipython3",
   "version": "3.12.3"
  }
 },
 "nbformat": 4,
 "nbformat_minor": 5
}
